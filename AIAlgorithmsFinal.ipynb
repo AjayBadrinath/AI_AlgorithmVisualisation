{
 "cells": [
  {
   "cell_type": "code",
   "execution_count": 8,
   "id": "632dcd6a",
   "metadata": {},
   "outputs": [],
   "source": [
    "import numpy as np\n",
    "import pandas as pd\n",
    "import networkx as nx\n",
    "import matplotlib.animation as animation\n",
    "import matplotlib.pyplot as plt\n",
    "from IPython.display import HTML"
   ]
  },
  {
   "cell_type": "code",
   "execution_count": 2,
   "id": "26717ff9",
   "metadata": {},
   "outputs": [],
   "source": [
    "def oracle_search(d,start,goal,max_no_goalcutoff):\n",
    "    '''\n",
    "    params d=the adjacency dict,goal=goal node <str>,max_no_goalcutoff=set this as MAX_LIMIT to get all paths to goals or you can restrict the paths accessed\n",
    "    returns oracle cost This will be the boilerplate code for all algos and further tweak done to specific algos  ....\n",
    "    '''\n",
    "    queue=[[0,start]]\n",
    "    res=[]\n",
    "    g=goal\n",
    "    f=0\n",
    "    n_g=max_no_goalcutoff\n",
    "    while (len(queue)!=0):\n",
    "        tmp=[]\n",
    "        curr=queue.pop(0)         # This is the list of paths with index 0 storing cumulative cost\n",
    "        currnode=curr[-1]           # This is the last node in the traversed path\n",
    "        for i in d[currnode].keys():\n",
    "            if i in curr:continue   # prevent accessing ancesstors to child\n",
    "            tmp1=curr+list(i)\n",
    "            tmp1[0]=curr[0]+d[currnode][i]\n",
    "            tmp.append(tmp1)\n",
    "            queue.append(tmp1)\n",
    "            queue.sort(key=lambda k1:k1[0])   # Should have used a priority queue but sort works !\n",
    "            if g==i:f+=1\n",
    "        for i in tmp:res.append(i)\n",
    "        if(f==n_g):break\n",
    "    print(res)\n",
    "    goal_node=[]\n",
    "    for i in res:\n",
    "        if 'G' in i:goal_node.append(i)\n",
    "    print('Oracle Paths:',goal_node)\n",
    "    return goal_node[0][0] # return oracle cost for B&b"
   ]
  },
  {
   "cell_type": "code",
   "execution_count": 4,
   "id": "2a3f6a92",
   "metadata": {},
   "outputs": [],
   "source": []
  },
  {
   "cell_type": "code",
   "execution_count": 5,
   "id": "f95ac95d",
   "metadata": {},
   "outputs": [
    {
     "name": "stdout",
     "output_type": "stream",
     "text": [
      "[['S', 'A'], ['S', 'B'], ['S', 'A', 'B'], ['S', 'A', 'D'], ['S', 'B', 'A'], ['S', 'B', 'C'], ['S', 'B', 'A', 'D'], ['S', 'A', 'B', 'C'], ['S', 'B', 'C', 'E'], ['S', 'A', 'B', 'C', 'E'], ['S', 'A', 'D', 'G'], ['S', 'B', 'A', 'D', 'G']]\n",
      "BMS Paths: [['S', 'A', 'D', 'G'], ['S', 'B', 'A', 'D', 'G']]\n"
     ]
    },
    {
     "data": {
      "text/plain": [
       "[['S', 'A'],\n",
       " ['S', 'B'],\n",
       " ['S', 'A', 'B'],\n",
       " ['S', 'A', 'D'],\n",
       " ['S', 'B', 'A'],\n",
       " ['S', 'B', 'C'],\n",
       " ['S', 'B', 'A', 'D'],\n",
       " ['S', 'A', 'B', 'C'],\n",
       " ['S', 'B', 'C', 'E'],\n",
       " ['S', 'A', 'B', 'C', 'E'],\n",
       " ['S', 'A', 'D', 'G'],\n",
       " ['S', 'B', 'A', 'D', 'G']]"
      ]
     },
     "execution_count": 5,
     "metadata": {},
     "output_type": "execute_result"
    }
   ],
   "source": [
    "def BMS(d,start,goal,max_no_goalcutoff):\n",
    "    queue=[[start]]\n",
    "    #print(queue[-1][-1])\n",
    "    res=[]\n",
    "    g=goal\n",
    "    f=0\n",
    "    n_g=max_no_goalcutoff\n",
    "    while (len(queue)!=0):\n",
    "        tmp=[]\n",
    "        curr=queue.pop(0)\n",
    "        currnode=curr[-1][-1]\n",
    "        for i in d[currnode].keys():\n",
    "            if i in curr:continue\n",
    "            tmp1=curr+list(i)\n",
    "            #tmp1[0]=curr[0]+d[currnode][i]\n",
    "            tmp.append(tmp1)\n",
    "            queue.append(tmp1)\n",
    "            queue.sort(key=lambda k1:ord(k1[-1]))\n",
    "            if g==i:f+=1\n",
    "        for i in tmp:res.append(i)\n",
    "        if(f==n_g):break\n",
    "    print(res)\n",
    "    goal_node=[]\n",
    "    for i in res:\n",
    "        if 'G' in i:goal_node.append(i)\n",
    "    print('BMS Paths:',goal_node)\n",
    "    return res\n",
    "BMS(d,'S','G',2)"
   ]
  },
  {
   "cell_type": "code",
   "execution_count": 194,
   "id": "9ae38589",
   "metadata": {},
   "outputs": [
    {
     "name": "stdout",
     "output_type": "stream",
     "text": [
      "[[0, 'S']]\n",
      "[[3, 'S', 'A'], [5, 'S', 'B']]\n",
      "[[6, 'S', 'A', 'D'], [7, 'S', 'A', 'B'], [9, 'S', 'B', 'A'], [9, 'S', 'B', 'C']]\n",
      "[[[3, 'S', 'A'], [5, 'S', 'B']], [[6, 'S', 'A', 'D'], [7, 'S', 'A', 'B'], [9, 'S', 'B', 'A'], [9, 'S', 'B', 'C']], [[11, 'S', 'A', 'D', 'G'], [11, 'S', 'A', 'B', 'C'], [12, 'S', 'B', 'A', 'D'], [15, 'S', 'B', 'C', 'E']]]\n",
      "[11, 'S', 'A', 'D', 'G']\n"
     ]
    }
   ],
   "source": [
    "def beamsearch(d,start,end,bw):\n",
    "    queue=[[0,start]]\n",
    "    fr=[]\n",
    "    goal=end\n",
    "    Beam=bw\n",
    "    gn=[]\n",
    "    f=0\n",
    "    #print(queue)\n",
    "    n_g=0\n",
    "    f=n_g\n",
    "    while(len(queue)!=0):\n",
    "        print(queue)\n",
    "        tmp=queue.copy()\n",
    "        sl=[]\n",
    "        for j in range(len(tmp)):\n",
    "            cp=queue.pop(0)\n",
    "            n=cp[-1]\n",
    "            for i in d[n].keys():    # SAme loops as oracle search \n",
    "                #print(i)\n",
    "                if i in cp:\n",
    "                    continue\n",
    "                el=cp+[i]\n",
    "                el[0]+=d[n][i]\n",
    "                sl.append(el)\n",
    "                #queue.append(el)\n",
    "                sl.sort(key=lambda x: x[0])\n",
    "                if goal==i:\n",
    "                    f=1\n",
    "                    gn=el\n",
    "        queue=sl\n",
    "        if f==1:\n",
    "            fr.append(queue.copy())\n",
    "            break\n",
    "        queue=queue[:Beam+2]\n",
    "        fr.append(queue.copy())\n",
    "    print(fr)\n",
    "    print(gn)\n",
    "\n",
    "beamsearch(d,'S','G',2)   "
   ]
  },
  {
   "cell_type": "code",
   "execution_count": 137,
   "id": "488ff050",
   "metadata": {},
   "outputs": [
    {
     "name": "stdout",
     "output_type": "stream",
     "text": [
      "[[0, 'S']]\n",
      "[[3, 'S', 'A'], [5, 'S', 'B']]\n",
      "[[6, 'S', 'A', 'D'], [7, 'S', 'A', 'B'], [9, 'S', 'B', 'A'], [9, 'S', 'B', 'C']]\n",
      "[[[3, 'S', 'A'], [5, 'S', 'B']], [[6, 'S', 'A', 'D'], [7, 'S', 'A', 'B'], [9, 'S', 'B', 'A'], [9, 'S', 'B', 'C']], [[11, 'S', 'A', 'B', 'C'], [11, 'S', 'A', 'D', 'G'], [12, 'S', 'B', 'A', 'D'], [15, 'S', 'B', 'C', 'E']]]\n",
      "[11, 'S', 'A', 'D', 'G']\n"
     ]
    }
   ],
   "source": [
    "def bfs(d,start,end):\n",
    "    queue=[[0,start]]\n",
    "    fr=[]\n",
    "    goal=end\n",
    "    gn=[]\n",
    "    f=0\n",
    "    #print(queue)\n",
    "    n_g=0\n",
    "    f=n_g\n",
    "    while(len(queue)!=0):\n",
    "        print(queue)\n",
    "        tmp=queue.copy()\n",
    "        sl=[]\n",
    "        for j in range(len(tmp)):\n",
    "            cp=queue.pop(0)\n",
    "            n=cp[-1]\n",
    "            for i in d[n].keys():    # SAme loops as oracle search \n",
    "                #print(i)\n",
    "                if i in cp:\n",
    "                    continue\n",
    "                el=cp+[i]\n",
    "                el[0]+=d[n][i]\n",
    "                sl.append(el)\n",
    "                sl=sorted(sl)\n",
    "                #sl.sort(key=lambda x: ord(x[-1]))\n",
    "                if goal==i:\n",
    "                    f=1\n",
    "                    gn=el\n",
    "        queue=sl\n",
    "        if f==1:\n",
    "            fr.append(queue.copy())\n",
    "            break\n",
    "        queue=queue[:]\n",
    "        fr.append(queue.copy())\n",
    "    print(fr)\n",
    "    print(gn)\n",
    "bfs(d,'S','G')"
   ]
  },
  {
   "cell_type": "code",
   "execution_count": 138,
   "id": "09766006",
   "metadata": {},
   "outputs": [
    {
     "name": "stdout",
     "output_type": "stream",
     "text": [
      "[[0, 'S', 'A'], [0, 'S', 'A', 'B'], [0, 'S', 'A', 'B', 'C'], [0, 'S', 'A', 'B', 'C', 'E'], [0, 'S', 'A', 'D'], [0, 'S', 'A', 'D', 'G']]\n"
     ]
    },
    {
     "data": {
      "text/plain": [
       "[[0, 'S', 'A'],\n",
       " [0, 'S', 'A', 'B'],\n",
       " [0, 'S', 'A', 'B', 'C'],\n",
       " [0, 'S', 'A', 'B', 'C', 'E'],\n",
       " [0, 'S', 'A', 'D'],\n",
       " [0, 'S', 'A', 'D', 'G']]"
      ]
     },
     "execution_count": 138,
     "metadata": {},
     "output_type": "execute_result"
    }
   ],
   "source": [
    "def dfs(d,start,end):\n",
    "    queue=[[0,start]]\n",
    "    path=[]\n",
    "    while(len(queue)!=0):\n",
    "        cp=queue.pop(0)\n",
    "        cn=cp[-1]\n",
    "        if cn==end:\n",
    "            break\n",
    "        else:\n",
    "            for i in d[cn].keys():\n",
    "                if i not in cp:\n",
    "                    queue.append(cp+list(i))\n",
    "            queue=sorted(queue)\n",
    "            \n",
    "            path.append(queue[0])\n",
    "            \n",
    "    print(path)\n",
    "    return path\n",
    "dfs(d,'S','G')"
   ]
  },
  {
   "cell_type": "code",
   "execution_count": 147,
   "id": "47f2ad99",
   "metadata": {},
   "outputs": [
    {
     "name": "stdout",
     "output_type": "stream",
     "text": [
      "[7.38, 'S', 'A']\n",
      "[6, 'S', 'B']\n",
      "[7.58, 'S', 'B', 'C']\n",
      "[7.38, 'S', 'B', 'A']\n",
      "[5, 'S', 'B', 'A', 'D']\n",
      "[0, 'S', 'B', 'A', 'D', 'G']\n",
      "[[6, 'S', 'B'], [7.38, 'S', 'B', 'A'], [5, 'S', 'B', 'A', 'D'], [0, 'S', 'B', 'A', 'D', 'G']]\n"
     ]
    }
   ],
   "source": [
    "\n",
    "def hill_climb(d_heur,start,end):\n",
    "    queue=[[0,start]]\n",
    "    path=[]\n",
    "    while(len(queue)!=0):\n",
    "        cp=queue.pop(0)\n",
    "        sl=[]\n",
    "        #print(cp)\n",
    "        cn=cp[-1]\n",
    "        if cn==end:\n",
    "            break\n",
    "        else:\n",
    "            for i in d[cn].keys():\n",
    "                if i in cp :\n",
    "                    continue\n",
    "                el=cp+list(i)\n",
    "                el[0]=d[cn][i]\n",
    "                sl.append(el)\n",
    "            \n",
    "        \n",
    "        sl.sort(key=lambda x:x[0],reverse=True) #Perform Similar to stack by LIFO by reversing the sorted queue\n",
    "        #print(sl)#same thing as DFS but with heuristics\n",
    "        \n",
    "        for k in sl:\n",
    "            print(k)\n",
    "            queue.insert(0,k)\n",
    "        \n",
    "        path.append(queue[0])\n",
    "    print(path)\n",
    "hill_climb(d,'S','G')"
   ]
  },
  {
   "cell_type": "code",
   "execution_count": 167,
   "id": "d0c4327f",
   "metadata": {},
   "outputs": [
    {
     "name": "stdout",
     "output_type": "stream",
     "text": [
      "[[3, 'S', 'A'], [5, 'S', 'B'], [6, 'S', 'A', 'D'], [7, 'S', 'A', 'B'], [9, 'S', 'B', 'A'], [9, 'S', 'B', 'C'], [11, 'S', 'A', 'B', 'C'], [11, 'S', 'A', 'D', 'G']]\n"
     ]
    },
    {
     "data": {
      "text/plain": [
       "[[3, 'S', 'A'],\n",
       " [5, 'S', 'B'],\n",
       " [6, 'S', 'A', 'D'],\n",
       " [7, 'S', 'A', 'B'],\n",
       " [9, 'S', 'B', 'A'],\n",
       " [9, 'S', 'B', 'C'],\n",
       " [11, 'S', 'A', 'B', 'C'],\n",
       " [11, 'S', 'A', 'D', 'G']]"
      ]
     },
     "execution_count": 167,
     "metadata": {},
     "output_type": "execute_result"
    }
   ],
   "source": [
    "def branch_and_bound(d,start,end,oracle):\n",
    "    queue=[[0,start]]\n",
    "    path=[]\n",
    "    isgoal=0\n",
    "    gn=[]\n",
    "    while(len(queue)!=0):\n",
    "        sl=[]\n",
    "        cp=queue.pop(0)\n",
    "        cn=cp[-1]\n",
    "        if cn==end:\n",
    "                gn=el\n",
    "                break\n",
    "        for i in d[cn].keys():\n",
    "            #print(queue)\n",
    "            if i in cp:\n",
    "                continue\n",
    "            \n",
    "            elif cp[0]+d[cn][i]<=oracle:\n",
    "                el=cp+list(i)\n",
    "                el[0]+=d[cn][i]\n",
    "                sl.append(el)\n",
    "                sl.sort(key=lambda x:x[0])\n",
    "                queue.append(el)\n",
    "                \n",
    "        \n",
    "        sl.sort(key=lambda x:x[0])\n",
    "        for i in sl:path.append(i)\n",
    "        #print(sl)\n",
    "        #if(isgoal==1):break\n",
    "    print(path)\n",
    "    return path\n",
    "branch_and_bound(d,'S','G',11)"
   ]
  },
  {
   "cell_type": "code",
   "execution_count": 181,
   "id": "3df17df3",
   "metadata": {},
   "outputs": [
    {
     "name": "stdout",
     "output_type": "stream",
     "text": [
      "['A', 'B', 'D', 'C', 'G']\n"
     ]
    },
    {
     "data": {
      "text/plain": [
       "[[3, 'S', 'A'],\n",
       " [5, 'S', 'B'],\n",
       " [6, 'S', 'A', 'D'],\n",
       " [9, 'S', 'B', 'C'],\n",
       " [11, 'S', 'A', 'D', 'G']]"
      ]
     },
     "execution_count": 181,
     "metadata": {},
     "output_type": "execute_result"
    }
   ],
   "source": [
    "def branch_and_bound_EL(d,start,end,oracle):\n",
    "    queue=[[0,start]]\n",
    "    path=[]\n",
    "    isgoal=0\n",
    "    gn=[]\n",
    "    vis=[]\n",
    "    while(len(queue)!=0):\n",
    "        sl=[]\n",
    "        cp=queue.pop(0)\n",
    "        cn=cp[-1]\n",
    "        if cn==end:\n",
    "                    \n",
    "                gn=el\n",
    "                break\n",
    "        for i in d[cn].keys():\n",
    "            #print(queue)\n",
    "            if i in cp:\n",
    "                continue\n",
    "            elif cp[0]+d[cn][i]<=oracle and i not in vis: \n",
    "                vis.append(i)\n",
    "                el=cp+list(i)\n",
    "                el[0]+=d[cn][i]\n",
    "                sl.append(el)\n",
    "                sl.sort(key=lambda x:x[0])\n",
    "                queue.append(el)\n",
    "                \n",
    "        \n",
    "        sl.sort(key=lambda x:x[0])\n",
    "        for i in sl:path.append(i)\n",
    "        #print(sl)\n",
    "        \n",
    "    print(vis)\n",
    "    return path\n",
    "branch_and_bound_EL(d,'S','G',11)"
   ]
  },
  {
   "cell_type": "code",
   "execution_count": 182,
   "id": "c680bb3b",
   "metadata": {},
   "outputs": [
    {
     "name": "stdout",
     "output_type": "stream",
     "text": [
      "[[10.379999999999999, 'S', 'A'], [11, 'S', 'B'], [20.38, 'S', 'A', 'B'], [18.38, 'S', 'A', 'D'], [22.38, 'S', 'B', 'A'], [22.58, 'S', 'B', 'C'], [23.38, 'S', 'A', 'D', 'G'], [31.96, 'S', 'A', 'B', 'C'], [30.38, 'S', 'B', 'A', 'D'], [inf, 'S', 'B', 'C', 'E'], [35.379999999999995, 'S', 'B', 'A', 'D', 'G']]\n"
     ]
    },
    {
     "data": {
      "text/plain": [
       "23.38"
      ]
     },
     "execution_count": 182,
     "metadata": {},
     "output_type": "execute_result"
    }
   ],
   "source": [
    "\n",
    "def oracle_cost_heur(d,start,end,d_heuristic,max_no_goalcutoff):\n",
    "    queue=[[0,start]]\n",
    "    res=[]\n",
    "    g='G'\n",
    "    f=0\n",
    "    n_g=max_no_goalcutoff\n",
    "    while (len(queue)!=0):\n",
    "        tmp=[]\n",
    "        curr=queue.pop(0)         # This is the list of paths with index 0 storing cumulative cost\n",
    "        currnode=curr[-1]           # This is the last node in the traversed path\n",
    "        for i in d[currnode].keys():\n",
    "            if i in curr:continue   # prevent accessing ancesstors to child\n",
    "            tmp1=curr+list(i)\n",
    "            tmp1[0]=curr[0]+d[currnode][i]+d_heuristic[currnode][i]\n",
    "            tmp.append(tmp1)\n",
    "            queue.append(tmp1)\n",
    "            queue.sort(key=lambda k1:k1[0])   # Should have used a priority queue but sort works !\n",
    "            if g==i:f+=1\n",
    "        for i in tmp:res.append(i)\n",
    "        if(f==n_g):break\n",
    "    print(res)\n",
    "    goal_node=[]\n",
    "    for i in res:\n",
    "        if end in i:goal_node.append(i)\n",
    "    return goal_node[0][0]\n",
    "    print('Oracle Paths:',goal_node)\n",
    "oracle_cost_heur(d,'S','G',d_h,2)"
   ]
  },
  {
   "cell_type": "code",
   "execution_count": 185,
   "id": "12dd940e",
   "metadata": {},
   "outputs": [
    {
     "name": "stdout",
     "output_type": "stream",
     "text": [
      "[[10.379999999999999, 'S', 'A'], [11, 'S', 'B'], [20.38, 'S', 'A', 'B'], [18.38, 'S', 'A', 'D'], [22.38, 'S', 'B', 'A'], [22.58, 'S', 'B', 'C'], [23.38, 'S', 'A', 'D', 'G'], [31.96, 'S', 'A', 'B', 'C'], [30.38, 'S', 'B', 'A', 'D'], [inf, 'S', 'B', 'C', 'E'], [35.379999999999995, 'S', 'B', 'A', 'D', 'G']]\n",
      "['A', 'B']\n"
     ]
    },
    {
     "data": {
      "text/plain": [
       "[[10.379999999999999, 'S', 'A'], [11, 'S', 'B']]"
      ]
     },
     "execution_count": 185,
     "metadata": {},
     "output_type": "execute_result"
    }
   ],
   "source": [
    "def A_star_search(d,start,end,d_heur,oracle_cost_heur):\n",
    "    queue=[[0,start]]\n",
    "    path=[]\n",
    "    isgoal=0\n",
    "    gn=[]\n",
    "    vis=[]\n",
    "    while(len(queue)!=0):\n",
    "        sl=[]\n",
    "        cp=queue.pop(0)\n",
    "        cn=cp[-1]\n",
    "        for i in d[cn].keys():\n",
    "            #print(queue)\n",
    "            if i in cp:\n",
    "                continue\n",
    "            elif cp[0]+d[cn][i]<=oracle_cost_heur and i not in vis : \n",
    "                vis.append(i)\n",
    "                el=cp+list(i)\n",
    "                el[0]+=d[cn][i]+d_heur[cn][i]\n",
    "                sl.append(el)\n",
    "                sl.sort(key=lambda x:x[0])\n",
    "                queue.append(el)\n",
    "                if cn==end:\n",
    "                    isgoal=1\n",
    "                    gn=el\n",
    "                    break\n",
    "        \n",
    "        sl.sort(key=lambda x:x[0])\n",
    "        for i in sl:path.append(i)\n",
    "        #print(sl)\n",
    "        if(isgoal==1):break\n",
    "    print(vis)\n",
    "    return path\n",
    "A_star_search(d,'S','G',d_h,oracle_cost_heur(d,'S','G',d_h,2))"
   ]
  },
  {
   "cell_type": "code",
   "execution_count": 197,
   "id": "f8868016",
   "metadata": {},
   "outputs": [
    {
     "name": "stdout",
     "output_type": "stream",
     "text": [
      "[[10.379999999999999, 'S', 'A'], [11, 'S', 'B'], [20.38, 'S', 'A', 'B'], [18.38, 'S', 'A', 'D'], [22.38, 'S', 'B', 'A'], [22.58, 'S', 'B', 'C'], [23.38, 'S', 'A', 'D', 'G'], [31.96, 'S', 'A', 'B', 'C'], [30.38, 'S', 'B', 'A', 'D'], [inf, 'S', 'B', 'C', 'E'], [35.379999999999995, 'S', 'B', 'A', 'D', 'G']]\n",
      "['A', 'B', 'D', 'C', 'G']\n",
      "[[['S', 'A']], [['S', 'B']], [['S', 'A'], ['A', 'D']], [['S', 'B'], ['B', 'C']], [['S', 'A'], ['A', 'D'], ['D', 'G']]]\n",
      "[('S', 'A'), ('S', 'B'), ('A', 'B'), ('A', 'D'), ('B', 'C'), ('C', 'E'), ('D', 'G')]\n",
      "['blue', 'green', 'green', 'green', 'green', 'green', 'green']\n",
      "['blue', 'green', 'green', 'green', 'green', 'green', 'green']\n",
      "['green', 'blue', 'green', 'green', 'green', 'green', 'green']\n",
      "['blue', 'green', 'green', 'blue', 'green', 'green', 'green']\n",
      "['green', 'blue', 'green', 'green', 'blue', 'green', 'green']\n",
      "['blue', 'green', 'green', 'blue', 'green', 'green', 'blue']\n"
     ]
    },
    {
     "data": {
      "image/png": "[encoded data removed]",
      "text/plain": [
       "<Figure size 432x288 with 1 Axes>"
      ]
     },
     "metadata": {},
     "output_type": "display_data"
    }
   ],
   "source": [
    "def form_graph(d,FR): #FR is a function pertaining to defined search algos.\n",
    "\n",
    "    g=nx.Graph()\n",
    "    g.add_nodes_from(d)\n",
    "    for i in d.keys():\n",
    "        for j in d[i].keys():\n",
    "            g.add_edge(i,j)\n",
    "\n",
    "    l=[]\n",
    "    #FR=BMS(d,'S','G',2)\n",
    "    #FR=dfs(d)\n",
    "    #FR=branch_and_bound(d,11)\n",
    "    #FR=A_star_search(d,'S','G',d_h,oracle_cost_heur(d,'S','G',d_h,2))\n",
    "    for i in FR:\n",
    "        #print(i)\n",
    "        st=i[1:]\n",
    "        tmp=[]\n",
    "        for c in range(len(i[1:])):\n",
    "\n",
    "            tmp.append(st[c:c+2])\n",
    "        tmp.pop(-1)\n",
    "        l+=[tmp]\n",
    "    l\n",
    "    \n",
    "\n",
    "    print((l))\n",
    "    return g\n",
    "\n",
    "def ret_edge(edge):\n",
    "    \n",
    "    c=0\n",
    "    \n",
    "    #print(edge)\n",
    "    for i in g.edges:\n",
    "        #print(i)\n",
    "        if(edge==list(i) or edge[::-1]==list(i)):\n",
    "            break\n",
    "        c+=1\n",
    "    #edge_col[c]=\"red\"\n",
    "    return c\n",
    "\n",
    "def animate(i):\n",
    "    edge_col=[]\n",
    "    for j in range(len(g.edges)):\n",
    "        edge_col+=[\"green\"]\n",
    "    tmp=edge_col.copy()\n",
    "    #for i in range(len(l)):\n",
    "    for j in (l[i]):\n",
    "            tmp[ret_edge(j)]=\"blue\"\n",
    "    print(tmp)\n",
    "        #node=nx.draw_shell(g, list(g.nodes),edge_color=tmp, with_labels=True, font_weight='bold')\n",
    "    nx.draw_networkx_labels(g,pos)\n",
    "    node=nx.draw_networkx_nodes(g, pos,nodelist=list(g.nodes), node_size=250,node_color='lightblue')\n",
    "    edges=nx.draw_networkx_edges(g,pos,edgelist=list(g.edges),edge_color=tmp)\n",
    "    return node,edges\n",
    "def Viz(g):\n",
    "    pos = nx.shell_layout(g)\n",
    "    g=nx.Graph()\n",
    "    g.add_nodes_from(d) \n",
    "    for i in d.keys():\n",
    "        for j in d[i].keys():\n",
    "            g.add_edge(i,j)\n",
    "    print(g.edges)\n",
    "\n",
    "    fig=plt.gcf()\n",
    "    #nx.draw_shell(g, list(g.nodes), with_labels=True, font_weight='bold')\n",
    "\n",
    "    ani = animation.FuncAnimation(fig, animate, frames=len(l), interval=1000, repeat=True,blit=False)\n",
    "    #ani.save(\"D://anim.mp4\")\n",
    "    HTML(ani.to_html5_video(30))\n"
   ]
  },
  {
   "cell_type": "code",
   "execution_count": 198,
   "id": "afda1ef9",
   "metadata": {},
   "outputs": [
    {
     "name": "stdout",
     "output_type": "stream",
     "text": [
      "[[10.379999999999999, 'S', 'A'], [11, 'S', 'B'], [20.38, 'S', 'A', 'B'], [18.38, 'S', 'A', 'D'], [22.38, 'S', 'B', 'A'], [22.58, 'S', 'B', 'C'], [23.38, 'S', 'A', 'D', 'G'], [31.96, 'S', 'A', 'B', 'C'], [30.38, 'S', 'B', 'A', 'D'], [inf, 'S', 'B', 'C', 'E'], [35.379999999999995, 'S', 'B', 'A', 'D', 'G']]\n",
      "['A', 'B', 'D', 'C', 'G']\n",
      "[[['S', 'A']], [['S', 'B']], [['S', 'A'], ['A', 'D']], [['S', 'B'], ['B', 'C']], [['S', 'A'], ['A', 'D'], ['D', 'G']]]\n",
      "[('S', 'A'), ('S', 'B'), ('A', 'B'), ('A', 'D'), ('B', 'C'), ('C', 'E'), ('D', 'G')]\n",
      "['blue', 'green', 'green', 'green', 'green', 'green', 'green']\n",
      "['blue', 'green', 'green', 'green', 'green', 'green', 'green']\n",
      "['green', 'blue', 'green', 'green', 'green', 'green', 'green']\n",
      "['blue', 'green', 'green', 'blue', 'green', 'green', 'green']\n",
      "['green', 'blue', 'green', 'green', 'blue', 'green', 'green']\n",
      "['blue', 'green', 'green', 'blue', 'green', 'green', 'blue']\n"
     ]
    },
    {
     "data": {
      "image/png": "[encoded data removed]",
      "text/plain": [
       "<Figure size 432x288 with 1 Axes>"
      ]
     },
     "metadata": {},
     "output_type": "display_data"
    }
   ],
   "source": [
    "# User Input Space \n",
    "# I am not taking user input from console ... feels more interactive to edit the dictionary d and d_h by the user at once \n",
    "'''\n",
    "Template For User\n",
    "\n",
    "d -> Adjacency Graph with normal weights\n",
    "d_h -> Adjacency Graph with Heuristics\n",
    "FR -> Function To Visualise \n",
    "Call form_graph()  -> Init Setup\n",
    "Call Viz(form_graph())  -> or use alias ret val //\n",
    "\n",
    "\n",
    "'''\n",
    "d={\n",
    "    'S':{'A':3,'B':5},\n",
    "    'A':{'S':3,'B':4,'D':3},\n",
    "    'B':{'S':5,'A':4,'C':4},\n",
    "    'C':{'B':4,'E':6},\n",
    "    'E':{'C':6},\n",
    "    'D':{'A':3,'G':5},\n",
    "    'G':{'D':5}\n",
    "}\n",
    "d_h={\n",
    "    'S':{'A':7.38,'B':6},\n",
    "    'A':{'S':np.inf,'B':6,'D':5},\n",
    "    'B':{'S':np.inf,'A':7.38,'C':7.58},\n",
    "    'C':{'B':6,'E':np.inf},\n",
    "    'E':{'C':7.58},\n",
    "    'D':{'A':7.38,'G':0},\n",
    "    'G':{'D':5}\n",
    "}\n",
    "\n",
    "FR=A_star_search(d,'S','G',d_h,oracle_cost_heur(d,'S','G',d_h,2))\n",
    "g=form_graph(d,FR)\n",
    "Viz(g)"
   ]
  },
  {
   "cell_type": "code",
   "execution_count": null,
   "id": "f9251433",
   "metadata": {},
   "outputs": [],
   "source": []
  }
 ],
 "metadata": {
  "kernelspec": {
   "display_name": "Python 3 (ipykernel)",
   "language": "python",
   "name": "python3"
  },
  "language_info": {
   "codemirror_mode": {
    "name": "ipython",
    "version": 3
   },
   "file_extension": ".py",
   "mimetype": "text/x-python",
   "name": "python",
   "nbconvert_exporter": "python",
   "pygments_lexer": "ipython3",
   "version": "3.9.13"
  }
 },
 "nbformat": 4,
 "nbformat_minor": 5
}
